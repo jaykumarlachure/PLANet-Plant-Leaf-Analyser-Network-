{
 "cells": [
  {
   "cell_type": "code",
   "execution_count": 1,
   "metadata": {},
   "outputs": [],
   "source": [
    "import numpy as np\n",
    "import cv2\n",
    "import os\n",
    "import time\n",
    "from natsort import natsort_keygen\n",
    "from IPython.display import clear_output\n",
    "import sys\n",
    "def nothing(useless=None):\n",
    "    pass\n",
    "\n",
    "def run():\n",
    "    cv2.namedWindow(\"Mask\")\n",
    "    cap = cv2.VideoCapture(0)\n",
    "\n",
    "    #Defining the trackbars\n",
    "    cv2.createTrackbar('R_l','Mask',26,255,nothing)\n",
    "    cv2.createTrackbar('G_l','Mask',46,255,nothing)\n",
    "    cv2.createTrackbar('B_l','Mask',68,255,nothing)\n",
    "\n",
    "    cv2.createTrackbar('R_h','Mask',108,255,nothing)\n",
    "    cv2.createTrackbar('G_h','Mask',138,255,nothing)\n",
    "    cv2.createTrackbar('B_h','Mask',155,255,nothing)\n",
    "\n",
    "    while True:\n",
    "\n",
    "        #Getting the position of the trackbads\n",
    "        R_l = cv2.getTrackbarPos('R_l', 'Mask')\n",
    "        G_l = cv2.getTrackbarPos('G_l', 'Mask')\n",
    "        B_l = cv2.getTrackbarPos('B_l', 'Mask')\n",
    "\n",
    "        R_h = cv2.getTrackbarPos('R_h', 'Mask')\n",
    "        G_h = cv2.getTrackbarPos('G_h', 'Mask')\n",
    "        B_h = cv2.getTrackbarPos('B_h', 'Mask')\n",
    "\n",
    "        #Getting frame, blurring it and converting rgb to hsv\n",
    "        _,frame = cap.read()\n",
    "        blurred_frame = cv2.blur(frame,(5,5),0)    \n",
    "        hsv_frame = cv2.cvtColor(blurred_frame,cv2.COLOR_BGR2HSV)\n",
    "\n",
    "        #Defining color theshold\n",
    "        low_green = np.array([R_l, G_l, B_l])\n",
    "        high_green = np.array([R_h, G_h, B_h])\n",
    "        green_mask = cv2.inRange(hsv_frame, low_green, high_green)\n",
    "\n",
    "        #Morphological adjestments\n",
    "        kernel = cv2.getStructuringElement(cv2.MORPH_RECT, (3,3))\n",
    "        opening = cv2.morphologyEx(green_mask, cv2.MORPH_OPEN, kernel, iterations=1)\n",
    "        close = cv2.morphologyEx(opening, cv2.MORPH_CLOSE, kernel, iterations=1)\n",
    "\n",
    "        #Getting the largest contour\n",
    "        contours,_ = cv2.findContours(green_mask,cv2.RETR_TREE,cv2.CHAIN_APPROX_NONE)    \n",
    "\n",
    "        try:\n",
    "\n",
    "            biggest = sorted(contours,key=cv2.contourArea,reverse=True)[0]\n",
    "            cv2.drawContours(frame,biggest,-1,(255,0,0),1)\n",
    "\n",
    "            #Creating blank mask and filling in the contour\n",
    "            blank_mask = np.zeros(frame.shape, dtype=np.uint8)\n",
    "            cv2.fillPoly(blank_mask, [biggest], (255,255,255))\n",
    "            blank_mask = cv2.cvtColor(blank_mask, cv2.COLOR_BGR2GRAY)\n",
    "            result = cv2.bitwise_and(frame,frame,mask=blank_mask)\n",
    "\n",
    "            x,y,w,h = cv2.boundingRect(blank_mask)\n",
    "            ROI = result[y:y+h, x:x+w]\n",
    "\n",
    "            cv2.imshow('Mask', ROI)\n",
    "            cv2.imshow('frame', frame)\n",
    "\n",
    "        except IndexError:\n",
    "            continue\n",
    "\n",
    "        key = cv2.waitKey(1)\n",
    "        if key == 27:\n",
    "            break\n",
    "\n",
    "    cap.release()\n",
    "    cv2.destroyAllWindows()\n",
    "    \n",
    "# default = {'R_l': 26, 'G_l': 46, 'B_l': 68, 'R_h': 108, 'G_h': 138, 'B_h': 155}\n",
    "# default = {'R_l': 31, 'G_l': 26, 'B_l': 54, 'R_h': 110, 'G_h': 139, 'B_h': 145}\n",
    "default = {'R_l': 0, 'G_l': 10, 'B_l': 36, 'R_h': 100, 'G_h': 255, 'B_h': 255}\n",
    "\n",
    "def foo(folder_path,path,save_path,dic = default):\n",
    "    \n",
    "    R_l = dic['R_l']\n",
    "    G_l = dic['G_l']\n",
    "    B_l = dic['B_l'] \n",
    "\n",
    "    R_h = dic['R_h']\n",
    "    G_h = dic['G_h']\n",
    "    B_h = dic['B_h']\n",
    "    \n",
    "    while True:\n",
    "\n",
    "        #Getting frame, blurring it and converting rgb to hsv\n",
    "        frame =  cv2.imread(folder_path+'/'+path)    \n",
    "        blurred_frame = cv2.blur(frame,(5,5),0)    \n",
    "        hsv_frame = cv2.cvtColor(blurred_frame,cv2.COLOR_BGR2HSV)\n",
    "\n",
    "        #Defining color theshold\n",
    "        low_green = np.array([R_l, G_l, B_l])\n",
    "        high_green = np.array([R_h, G_h, B_h])\n",
    "        green_mask = cv2.inRange(hsv_frame, low_green, high_green)\n",
    "\n",
    "        #Morphological adjestments\n",
    "        kernel = cv2.getStructuringElement(cv2.MORPH_RECT, (3,3))\n",
    "        opening = cv2.morphologyEx(green_mask, cv2.MORPH_OPEN, kernel, iterations=1)\n",
    "        close = cv2.morphologyEx(opening, cv2.MORPH_CLOSE, kernel, iterations=1)\n",
    "\n",
    "        #Getting the largest contour\n",
    "        contours,_ = cv2.findContours(green_mask,cv2.RETR_TREE,cv2.CHAIN_APPROX_NONE)    \n",
    "\n",
    "        try:\n",
    "            biggest = sorted(contours,key=cv2.contourArea,reverse=True)[0]\n",
    "            cv2.drawContours(frame,biggest,-1,(0,0,0),1)\n",
    "\n",
    "            #Creating blank mask and filling in the contour\n",
    "            blank_mask = np.zeros(frame.shape, dtype=np.uint8)\n",
    "            cv2.fillPoly(blank_mask, [biggest], (255,255,255))\n",
    "            blank_mask = cv2.cvtColor(blank_mask, cv2.COLOR_BGR2GRAY)\n",
    "            result = cv2.bitwise_and(frame,frame,mask=blank_mask)\n",
    "\n",
    "            x,y,w,h = cv2.boundingRect(blank_mask)\n",
    "            ROI = result[y:y+h, x:x+w]\n",
    "\n",
    "        except IndexError:\n",
    "            continue\n",
    "            \n",
    "        image_name = '{0}/{1}'.format(save_path,path)\n",
    "        cv2.imwrite(image_name,ROI)\n",
    "        break\n",
    "\n",
    "def foo2(folder_path,path,dic = default):\n",
    "    cv2.namedWindow('Mask')    \n",
    "    #Defining the trackbars\n",
    "    cv2.createTrackbar('R_l','Mask',dic['R_l'],255,nothing)\n",
    "    cv2.createTrackbar('G_l','Mask',dic['G_l'],255,nothing)\n",
    "    cv2.createTrackbar('B_l','Mask',dic['B_l'],255,nothing)\n",
    "\n",
    "    cv2.createTrackbar('R_h','Mask',dic['R_h'],255,nothing)\n",
    "    cv2.createTrackbar('G_h','Mask',dic['G_h'],255,nothing)\n",
    "    cv2.createTrackbar('B_h','Mask',dic['B_h'],255,nothing)\n",
    "\n",
    "    while True:\n",
    "        #Getting the position of the trackbads\n",
    "        R_l = cv2.getTrackbarPos('R_l', 'Mask')\n",
    "        G_l = cv2.getTrackbarPos('G_l', 'Mask')\n",
    "        B_l = cv2.getTrackbarPos('B_l', 'Mask')\n",
    "\n",
    "        R_h = cv2.getTrackbarPos('R_h', 'Mask')\n",
    "        G_h = cv2.getTrackbarPos('G_h', 'Mask')\n",
    "        B_h = cv2.getTrackbarPos('B_h', 'Mask')\n",
    "        \n",
    "        #Getting frame, blurring it and converting rgb to hsv\n",
    "        frame =  cv2.imread(folder_path+'/'+path)    \n",
    "        blurred_frame = cv2.blur(frame,(5,5),0)    \n",
    "        hsv_frame = cv2.cvtColor(blurred_frame,cv2.COLOR_BGR2HSV)\n",
    "\n",
    "        #Defining color theshold\n",
    "        low_green = np.array([R_l, G_l, B_l])\n",
    "        high_green = np.array([R_h, G_h, B_h])\n",
    "        green_mask = cv2.inRange(hsv_frame, low_green, high_green)\n",
    "\n",
    "        #Morphological adjestments\n",
    "        kernel = cv2.getStructuringElement(cv2.MORPH_RECT, (3,3))\n",
    "        opening = cv2.morphologyEx(green_mask, cv2.MORPH_OPEN, kernel, iterations=1)\n",
    "        close = cv2.morphologyEx(opening, cv2.MORPH_CLOSE, kernel, iterations=1)\n",
    "\n",
    "        #Getting the largest contour\n",
    "        contours,_ = cv2.findContours(green_mask,cv2.RETR_TREE,cv2.CHAIN_APPROX_NONE)    \n",
    "\n",
    "        try:\n",
    "            biggest = sorted(contours,key=cv2.contourArea,reverse=True)[0]\n",
    "            cv2.drawContours(frame,biggest,-1,(0,0,0),1)\n",
    "\n",
    "            #Creating blank mask and filling in the contour\n",
    "            blank_mask = np.zeros(frame.shape, dtype=np.uint8)\n",
    "            cv2.fillPoly(blank_mask, [biggest], (255,255,255))\n",
    "            blank_mask = cv2.cvtColor(blank_mask, cv2.COLOR_BGR2GRAY)\n",
    "            result = cv2.bitwise_and(frame,frame,mask=blank_mask)\n",
    "\n",
    "            x,y,w,h = cv2.boundingRect(blank_mask)\n",
    "            ROI = result[y:y+h, x:x+w]\n",
    "        \n",
    "            cv2.imshow('frame', frame)\n",
    "            cv2.imshow('Mask', ROI)\n",
    "\n",
    "        except IndexError:\n",
    "            print('error ran')\n",
    "            key = cv2.waitKey(1)\n",
    "            if key == 27:    \n",
    "                d = {}\n",
    "                d['R_l'] = R_l\n",
    "                d['G_l'] = G_l\n",
    "                d['B_l'] = B_l\n",
    "                d['R_h'] = R_h\n",
    "                d['G_h'] = G_h\n",
    "                d['B_h'] = B_h\n",
    "\n",
    "                cv2.destroyAllWindows()\n",
    "                return d\n",
    "            continue\n",
    "\n",
    "        key = cv2.waitKey(1)\n",
    "        if key == 27:    \n",
    "            d = {}\n",
    "            d['R_l'] = R_l\n",
    "            d['G_l'] = G_l\n",
    "            d['B_l'] = B_l\n",
    "            d['R_h'] = R_h\n",
    "            d['G_h'] = G_h\n",
    "            d['B_h'] = B_h\n",
    "            \n",
    "            cv2.destroyAllWindows()\n",
    "            return d"
   ]
  },
  {
   "cell_type": "code",
   "execution_count": 2,
   "metadata": {},
   "outputs": [],
   "source": [
    "store = []\n",
    "store.append({'R_l': 0, 'G_l': 10, 'B_l': 36, 'R_h': 100, 'G_h': 255, 'B_h': 255})\n",
    "perfection={}\n",
    "perfection['Apple   Apple scab'] = {'R_l': 0, 'G_l': 10, 'B_l': 36, 'R_h': 100, 'G_h': 255, 'B_h': 255}\n",
    "perfection['Apple   Black rot'] = {'R_l': 4, 'G_l': 6, 'B_l': 9, 'R_h': 111, 'G_h': 255, 'B_h': 255}\n",
    "perfection['Apple   healthy'] = {'R_l': 16, 'G_l': 10, 'B_l': 10, 'R_h': 100, 'G_h': 255, 'B_h': 255}\n",
    "perfection['Cherry (including sour)   healthy'] = {'R_l': 17, 'G_l': 10, 'B_l': 36, 'R_h': 100, 'G_h': 255, 'B_h': 255}\n",
    "perfection['Cherry (including sour)   Powdery mildew'] = {'R_l': 33, 'G_l': 12, 'B_l': 20, 'R_h': 114, 'G_h': 255, 'B_h': 231}\n",
    "perfection['Corn (maize)   Cercospora leaf spot Gray leaf spot'] = {'R_l': 12, 'G_l': 12, 'B_l': 17, 'R_h': 114, 'G_h': 255, 'B_h': 231}\n",
    "perfection['Corn (maize)   Common rust'] = {'R_l': 0, 'G_l': 10, 'B_l': 36, 'R_h': 100, 'G_h': 255, 'B_h': 255}\n",
    "perfection['Corn (maize)   healthy'] = {'R_l': 0, 'G_l': 0, 'B_l': 0, 'R_h': 255, 'G_h': 255, 'B_h': 255}\n",
    "perfection['Corn (maize)   Northern Leaf Blight'] = {'R_l': 0, 'G_l': 10, 'B_l': 36, 'R_h': 100, 'G_h': 255, 'B_h': 255}\n",
    "perfection['Grape   Black rot'] = {'R_l': 14, 'G_l': 20, 'B_l': 40, 'R_h': 94, 'G_h': 255, 'B_h': 255}\n",
    "perfection['Grape   Esca (Black Measles)'] = {'R_l': 6, 'G_l': 21, 'B_l': 20, 'R_h': 91, 'G_h': 255, 'B_h': 255}\n",
    "perfection['Grape   healthy']= {'R_l': 34, 'G_l': 10, 'B_l': 36, 'R_h': 100, 'G_h': 255, 'B_h': 255}\n",
    "perfection['Grape   Leaf blight (Isariopsis Leaf Spot)'] = {'R_l': 6, 'G_l': 63, 'B_l': 34, 'R_h': 93, 'G_h': 255, 'B_h': 255}\n",
    "perfection['Blueberry   healthy'] = {'R_l': 0, 'G_l': 19, 'B_l': 20, 'R_h': 100, 'G_h': 255, 'B_h': 255}\n",
    "perfection['Orange   Haunglongbing (Citrus greening)'] = {'R_l': 14, 'G_l': 28, 'B_l': 34, 'R_h': 100, 'G_h': 255, 'B_h': 255}\n",
    "perfection['Peach   Bacterial spot'] = {'R_l': 0, 'G_l': 21, 'B_l': 36, 'R_h': 100, 'G_h': 255, 'B_h': 255}\n",
    "perfection['Peach   healthy']= {'R_l': 14, 'G_l': 10, 'B_l': 36, 'R_h': 100, 'G_h': 255, 'B_h': 255}\n",
    "perfection['Pepper, bell   Bacterial spot'] = {'R_l': 16, 'G_l': 20, 'B_l': 23, 'R_h': 108, 'G_h': 255, 'B_h': 231}\n",
    "perfection['Pepper, bell   healthy'] = {'R_l': 23, 'G_l': 10, 'B_l': 36, 'R_h': 100, 'G_h': 255, 'B_h': 255}\n",
    "perfection['Potato   Early blight'] = {'R_l': 0, 'G_l': 15, 'B_l': 39, 'R_h': 100, 'G_h': 255, 'B_h': 255}\n",
    "# perfection['Potato   healthy'] = {'R_l': 9, 'G_l': 10, 'B_l': 36, 'R_h': 100, 'G_h': 255, 'B_h': 255}\n",
    "perfection['Potato   Late blight'] = {'R_l': 7, 'G_l': 7, 'B_l': 36, 'R_h': 100, 'G_h': 255, 'B_h': 255}\n",
    "perfection['Raspberry   healthy'] = {'R_l': 23, 'G_l': 13, 'B_l': 36, 'R_h': 100, 'G_h': 255, 'B_h': 255}\n",
    "perfection['Soybean   healthy'] = {'R_l': 25, 'G_l': 10, 'B_l': 36, 'R_h': 100, 'G_h': 255, 'B_h': 255}\n",
    "perfection['Squash   Powdery mildew'] = {'R_l': 15, 'G_l': 20, 'B_l': 80, 'R_h': 105, 'G_h': 255, 'B_h': 255}\n",
    "perfection['Tomato   Bacterial spot'] = {'R_l': 21, 'G_l': 49, 'B_l': 36, 'R_h': 100, 'G_h': 255, 'B_h': 255}\n",
    "perfection['Tomato   Early blight'] = {'R_l': 13, 'G_l': 28, 'B_l': 36, 'R_h': 100, 'G_h': 255, 'B_h': 255}\n",
    "perfection['Tomato   healthy'] = {'R_l': 0, 'G_l': 25, 'B_l': 36, 'R_h': 100, 'G_h': 255, 'B_h': 255}\n",
    "perfection['Tomato   Late blight'] = {'R_l': 13, 'G_l': 48, 'B_l': 0, 'R_h': 100, 'G_h': 255, 'B_h': 255}\n",
    "perfection['Tomato   Leaf Mold'] = {'R_l': 17, 'G_l': 10, 'B_l': 36, 'R_h': 100, 'G_h': 255, 'B_h': 255}\n",
    "perfection['Tomato   Septoria leaf spot'] = {'R_l': 16, 'G_l': 10, 'B_l': 36, 'R_h': 100, 'G_h': 255, 'B_h': 255}\n",
    "perfection['Tomato   Spider mites Two-spotted spider mite'] = {'R_l': 17, 'G_l': 10, 'B_l': 36, 'R_h': 100, 'G_h': 255, 'B_h': 255}\n",
    "perfection['Tomato   Target Spot'] = {'R_l': 15, 'G_l': 10, 'B_l': 36, 'R_h': 100, 'G_h': 255, 'B_h': 255}\n",
    "perfection['Tomato   Tomato mosaic virus'] = {'R_l': 0, 'G_l': 10, 'B_l': 36, 'R_h': 100, 'G_h': 255, 'B_h': 255}\n",
    "perfection['Apple   Cedar apple rust'] = {'R_l': 19, 'G_l': 34, 'B_l': 36, 'R_h': 101, 'G_h': 255, 'B_h': 255}\n",
    "perfection['Strawberry   healthy'] = {'R_l': 0, 'G_l': 10, 'B_l': 36, 'R_h': 100, 'G_h': 255, 'B_h': 255}\n",
    "perfection['Tomato   Tomato Yellow Leaf Curl Virus'] = {'R_l': 29, 'G_l': 26, 'B_l': 0, 'R_h': 100, 'G_h': 255, 'B_h': 255}\n"
   ]
  },
  {
   "cell_type": "code",
   "execution_count": 3,
   "metadata": {},
   "outputs": [],
   "source": [
    "# with open('perfection.txt','a+') as f:\n",
    "#             f.write('---------------------------------------')"
   ]
  },
  {
   "cell_type": "code",
   "execution_count": 5,
   "metadata": {
    "scrolled": false
   },
   "outputs": [
    {
     "name": "stdout",
     "output_type": "stream",
     "text": [
      "apple_black_rot_1.jpg\n"
     ]
    },
    {
     "ename": "NotADirectoryError",
     "evalue": "[WinError 267] The directory name is invalid: 'Test images/New folder\\\\apple_black_rot_1.jpg'",
     "output_type": "error",
     "traceback": [
      "\u001b[1;31m---------------------------------------------------------------------------\u001b[0m",
      "\u001b[1;31mKeyError\u001b[0m                                  Traceback (most recent call last)",
      "\u001b[1;32m<ipython-input-5-75f406d90f02>\u001b[0m in \u001b[0;36m<module>\u001b[1;34m\u001b[0m\n\u001b[0;32m     50\u001b[0m         \u001b[0mprint\u001b[0m\u001b[1;33m(\u001b[0m\u001b[0mfolder_path\u001b[0m\u001b[1;33m)\u001b[0m\u001b[1;33m\u001b[0m\u001b[1;33m\u001b[0m\u001b[0m\n\u001b[1;32m---> 51\u001b[1;33m         \u001b[0mtemp_\u001b[0m \u001b[1;33m=\u001b[0m \u001b[0mperfection\u001b[0m\u001b[1;33m[\u001b[0m\u001b[1;34m'{}'\u001b[0m\u001b[1;33m.\u001b[0m\u001b[0mformat\u001b[0m\u001b[1;33m(\u001b[0m\u001b[0mfolder_path\u001b[0m\u001b[1;33m)\u001b[0m\u001b[1;33m]\u001b[0m\u001b[1;33m\u001b[0m\u001b[1;33m\u001b[0m\u001b[0m\n\u001b[0m\u001b[0;32m     52\u001b[0m         \u001b[0mprint\u001b[0m\u001b[1;33m(\u001b[0m\u001b[0mtemp_\u001b[0m\u001b[1;33m)\u001b[0m\u001b[1;33m\u001b[0m\u001b[1;33m\u001b[0m\u001b[0m\n",
      "\u001b[1;31mKeyError\u001b[0m: 'apple_black_rot_1.jpg'",
      "\nDuring handling of the above exception, another exception occurred:\n",
      "\u001b[1;31mNotADirectoryError\u001b[0m                        Traceback (most recent call last)",
      "\u001b[1;32m<ipython-input-5-75f406d90f02>\u001b[0m in \u001b[0;36m<module>\u001b[1;34m\u001b[0m\n\u001b[0;32m     62\u001b[0m \u001b[1;33m\u001b[0m\u001b[0m\n\u001b[0;32m     63\u001b[0m         \u001b[0msource_folder_path\u001b[0m \u001b[1;33m=\u001b[0m \u001b[0mos\u001b[0m\u001b[1;33m.\u001b[0m\u001b[0mpath\u001b[0m\u001b[1;33m.\u001b[0m\u001b[0mjoin\u001b[0m\u001b[1;33m(\u001b[0m\u001b[0msource_path\u001b[0m\u001b[1;33m,\u001b[0m\u001b[0mfolder_path\u001b[0m\u001b[1;33m)\u001b[0m\u001b[1;33m\u001b[0m\u001b[1;33m\u001b[0m\u001b[0m\n\u001b[1;32m---> 64\u001b[1;33m         \u001b[0mfiles\u001b[0m \u001b[1;33m=\u001b[0m \u001b[0mos\u001b[0m\u001b[1;33m.\u001b[0m\u001b[0mlistdir\u001b[0m\u001b[1;33m(\u001b[0m\u001b[0msource_folder_path\u001b[0m\u001b[1;33m)\u001b[0m\u001b[1;33m\u001b[0m\u001b[1;33m\u001b[0m\u001b[0m\n\u001b[0m\u001b[0;32m     65\u001b[0m         \u001b[0mfiles\u001b[0m\u001b[1;33m.\u001b[0m\u001b[0msort\u001b[0m\u001b[1;33m(\u001b[0m\u001b[0mkey\u001b[0m\u001b[1;33m=\u001b[0m\u001b[0mnatsort_keygen\u001b[0m\u001b[1;33m(\u001b[0m\u001b[0mkey\u001b[0m\u001b[1;33m=\u001b[0m\u001b[1;32mlambda\u001b[0m \u001b[0my\u001b[0m\u001b[1;33m:\u001b[0m \u001b[0my\u001b[0m\u001b[1;33m.\u001b[0m\u001b[0mlower\u001b[0m\u001b[1;33m(\u001b[0m\u001b[1;33m)\u001b[0m\u001b[1;33m)\u001b[0m\u001b[1;33m)\u001b[0m\u001b[1;33m\u001b[0m\u001b[1;33m\u001b[0m\u001b[0m\n\u001b[0;32m     66\u001b[0m         \u001b[0mpath_to_save\u001b[0m \u001b[1;33m=\u001b[0m \u001b[0mos\u001b[0m\u001b[1;33m.\u001b[0m\u001b[0mpath\u001b[0m\u001b[1;33m.\u001b[0m\u001b[0mjoin\u001b[0m\u001b[1;33m(\u001b[0m\u001b[0msave_path\u001b[0m\u001b[1;33m,\u001b[0m\u001b[0mfolder_path\u001b[0m\u001b[1;33m)\u001b[0m\u001b[1;33m\u001b[0m\u001b[1;33m\u001b[0m\u001b[0m\n",
      "\u001b[1;31mNotADirectoryError\u001b[0m: [WinError 267] The directory name is invalid: 'Test images/New folder\\\\apple_black_rot_1.jpg'"
     ]
    }
   ],
   "source": [
    "source_path = 'PlantVillage-Dataset-renamed'\n",
    "save_path = 'New-Dataset-Segmented'\n",
    "\n",
    "\n",
    "d = {'R_l': 0, 'G_l': 10, 'B_l': 36, 'R_h': 100, 'G_h': 255, 'B_h': 255}\n",
    "\n",
    "def minifoo(files,source_folder_path,d,store,path_to_save,position = 0):\n",
    "    \n",
    "    \n",
    "    last = store[-1]\n",
    "    d = foo2(source_folder_path,files[int(position)],d)\n",
    "    store.append(d)\n",
    "    print(d)\n",
    "    for file_path in files:\n",
    "        foo(source_folder_path,file_path,path_to_save,dic=d)\n",
    "        \n",
    "    print(folder_path,'done.')\n",
    "    flag = input('Are you satisfied with the result? ')\n",
    "    \n",
    "    \n",
    "    if flag == 'n':\n",
    "        last = store.pop()\n",
    "        minifoo(files,source_folder_path,d,store,path_to_save)\n",
    "    elif flag.isnumeric():\n",
    "        last = store.pop()\n",
    "        minifoo(files,source_folder_path,d,store,path_to_save,position = flag)\n",
    "    elif flag == 'kill':\n",
    "        return flag\n",
    "    elif flag == 'back':\n",
    "        store.append(last)\n",
    "        minifoo(files,source_folder_path,last,store,path_to_save)\n",
    "    elif flag == 'perfect':\n",
    "        temp = os.path.split(source_folder_path)[-1]\n",
    "        perfection['{}'.format(temp)] = d\n",
    "        with open('perfection.txt','a+') as f:\n",
    "            f.write('{0} : {1}\\n'.format(temp,d))\n",
    "        print('thanks! {0} : {1}'.format(temp,d))\n",
    "    elif flag == 'god please make it stop':\n",
    "        return flag\n",
    "\n",
    "# make the save_path\n",
    "if not os.path.exists(save_path):\n",
    "    os.mkdir(save_path)\n",
    "    \n",
    "    \n",
    "for folder_path in os.listdir(source_path):\n",
    "    \n",
    "    try:\n",
    "        print(folder_path)\n",
    "        temp_ = perfection['{}'.format(folder_path)]\n",
    "        print(temp_)\n",
    "#         for file_path in files:\n",
    "#             foo(source_folder_path,file_path,path_to_save,dic=temp_)\n",
    "        print(folder_path,'achived perfection!!!')\n",
    "    except:\n",
    "        #make subfolders in the save_path\n",
    "        sub_folder_path = os.path.join(save_path,folder_path)\n",
    "        if not os.path.exists(sub_folder_path):\n",
    "            os.mkdir(sub_folder_path)\n",
    "\n",
    "\n",
    "        source_folder_path = os.path.join(source_path,folder_path)\n",
    "        files = os.listdir(source_folder_path)\n",
    "        files.sort(key=natsort_keygen(key=lambda y: y.lower()))\n",
    "        path_to_save = os.path.join(save_path,folder_path)\n",
    "\n",
    "\n",
    "        flag = minifoo(files,source_folder_path,d,store,path_to_save)\n",
    "        if flag == 'kill':\n",
    "            print('PROCESS KILLED!!!')\n",
    "            break\n",
    "        if flag == 'god please make it stop':\n",
    "            print('God had mercy on your soal...',folder_path,'skipped.')"
   ]
  },
  {
   "cell_type": "code",
   "execution_count": 20,
   "metadata": {},
   "outputs": [
    {
     "data": {
      "text/plain": [
       "{'R_l': 0, 'G_l': 10, 'B_l': 36, 'R_h': 100, 'G_h': 255, 'B_h': 255}"
      ]
     },
     "execution_count": 20,
     "metadata": {},
     "output_type": "execute_result"
    }
   ],
   "source": [
    "folder_path = 'Apple   Apple scab'\n",
    "perfection['{}'.format(folder_path)]"
   ]
  },
  {
   "cell_type": "code",
   "execution_count": 15,
   "metadata": {},
   "outputs": [
    {
     "data": {
      "text/plain": [
       "{'R_l': 0, 'G_l': 10, 'B_l': 36, 'R_h': 100, 'G_h': 255, 'B_h': 255}"
      ]
     },
     "execution_count": 15,
     "metadata": {},
     "output_type": "execute_result"
    }
   ],
   "source": [
    "perfection['Apple   Apple scab']"
   ]
  },
  {
   "cell_type": "code",
   "execution_count": null,
   "metadata": {},
   "outputs": [],
   "source": [
    "# {'R_l': 6, 'G_l': 15, 'B_l': 14, 'R_h': 106, 'G_h': 255, 'B_h': 255},"
   ]
  },
  {
   "cell_type": "code",
   "execution_count": 108,
   "metadata": {},
   "outputs": [],
   "source": [
    "# store = []"
   ]
  },
  {
   "cell_type": "code",
   "execution_count": 125,
   "metadata": {
    "scrolled": true
   },
   "outputs": [
    {
     "name": "stdout",
     "output_type": "stream",
     "text": [
      "killed\n",
      "{'R_l': 0, 'G_l': 10, 'B_l': 36, 'R_h': 100, 'G_h': 255, 'B_h': 255}\n"
     ]
    }
   ],
   "source": [
    "position = 0\n",
    "home_dir = 'New-Dataset/Apple   Apple scab'\n",
    "d = foo2(home_dir,files[position],d)\n",
    "store.append(d)\n",
    "print(d)"
   ]
  },
  {
   "cell_type": "code",
   "execution_count": 131,
   "metadata": {},
   "outputs": [],
   "source": [
    "# [{'R_l': 38, 'G_l': 24, 'B_l': 50, 'R_h': 108, 'G_h': 122, 'B_h': 155},\n",
    "#  {'R_l': 38, 'G_l': 24, 'B_l': 50, 'R_h': 108, 'G_h': 122, 'B_h': 155},\n",
    "#  {'R_l': 3, 'G_l': 12, 'B_l': 57, 'R_h': 112, 'G_h': 109, 'B_h': 141},\n",
    "#  {'R_l': 8, 'G_l': 18, 'B_l': 61, 'R_h': 128, 'G_h': 159, 'B_h': 140},\n",
    "#  {'R_l': 20, 'G_l': 42, 'B_l': 56, 'R_h': 131, 'G_h': 146, 'B_h': 126},\n",
    "#  {'R_l': 112, 'G_l': 30, 'B_l': 121, 'R_h': 143, 'G_h': 93, 'B_h': 176},\n",
    "#  {'R_l': 50, 'G_l': 64, 'B_l': 51, 'R_h': 111, 'G_h': 146, 'B_h': 133},\n",
    "#  {'R_l': 45, 'G_l': 24, 'B_l': 54, 'R_h': 106, 'G_h': 134, 'B_h': 154},\n",
    "#  {'R_l': 50, 'G_l': 15, 'B_l': 40, 'R_h': 106, 'G_h': 126, 'B_h': 143},\n",
    "#  {'R_l': 31, 'G_l': 15, 'B_l': 48, 'R_h': 113, 'G_h': 196, 'B_h': 157},\n",
    "#  {'R_l': 31, 'G_l': 26, 'B_l': 57, 'R_h': 99, 'G_h': 111, 'B_h': 133},\n",
    "#  {'R_l': 10, 'G_l': 27, 'B_l': 61, 'R_h': 122, 'G_h': 184, 'B_h': 156},\n",
    "#  {'R_l': 17, 'G_l': 48, 'B_l': 66, 'R_h': 96, 'G_h': 121, 'B_h': 148},\n",
    "#  {'R_l': 27, 'G_l': 29, 'B_l': 39, 'R_h': 121, 'G_h': 179, 'B_h': 145},\n",
    "#  {'R_l': 35, 'G_l': 27, 'B_l': 54, 'R_h': 114, 'G_h': 155, 'B_h': 123},\n",
    "#  {'R_l': 57, 'G_l': 21, 'B_l': 18, 'R_h': 113, 'G_h': 123, 'B_h': 138},\n",
    "#  {'R_l': 13, 'G_l': 15, 'B_l': 61, 'R_h': 96, 'G_h': 152, 'B_h': 164},\n",
    "#  {'R_l': 10, 'G_l': 19, 'B_l': 42, 'R_h': 95, 'G_h': 161, 'B_h': 129},\n",
    "#  {'R_l': 6, 'G_l': 25, 'B_l': 50, 'R_h': 74, 'G_h': 117, 'B_h': 149},\n",
    "#  {'R_l': 0, 'G_l': 10, 'B_l': 36, 'R_h': 100, 'G_h': 255, 'B_h': 255}]"
   ]
  },
  {
   "cell_type": "code",
   "execution_count": 130,
   "metadata": {},
   "outputs": [
    {
     "data": {
      "text/plain": [
       "[{'R_l': 38, 'G_l': 24, 'B_l': 50, 'R_h': 108, 'G_h': 122, 'B_h': 155},\n",
       " {'R_l': 38, 'G_l': 24, 'B_l': 50, 'R_h': 108, 'G_h': 122, 'B_h': 155},\n",
       " {'R_l': 3, 'G_l': 12, 'B_l': 57, 'R_h': 112, 'G_h': 109, 'B_h': 141},\n",
       " {'R_l': 8, 'G_l': 18, 'B_l': 61, 'R_h': 128, 'G_h': 159, 'B_h': 140},\n",
       " {'R_l': 20, 'G_l': 42, 'B_l': 56, 'R_h': 131, 'G_h': 146, 'B_h': 126},\n",
       " {'R_l': 112, 'G_l': 30, 'B_l': 121, 'R_h': 143, 'G_h': 93, 'B_h': 176},\n",
       " {'R_l': 50, 'G_l': 64, 'B_l': 51, 'R_h': 111, 'G_h': 146, 'B_h': 133},\n",
       " {'R_l': 45, 'G_l': 24, 'B_l': 54, 'R_h': 106, 'G_h': 134, 'B_h': 154},\n",
       " {'R_l': 50, 'G_l': 15, 'B_l': 40, 'R_h': 106, 'G_h': 126, 'B_h': 143},\n",
       " {'R_l': 31, 'G_l': 15, 'B_l': 48, 'R_h': 113, 'G_h': 196, 'B_h': 157},\n",
       " {'R_l': 31, 'G_l': 26, 'B_l': 57, 'R_h': 99, 'G_h': 111, 'B_h': 133},\n",
       " {'R_l': 10, 'G_l': 27, 'B_l': 61, 'R_h': 122, 'G_h': 184, 'B_h': 156},\n",
       " {'R_l': 17, 'G_l': 48, 'B_l': 66, 'R_h': 96, 'G_h': 121, 'B_h': 148},\n",
       " {'R_l': 27, 'G_l': 29, 'B_l': 39, 'R_h': 121, 'G_h': 179, 'B_h': 145},\n",
       " {'R_l': 35, 'G_l': 27, 'B_l': 54, 'R_h': 114, 'G_h': 155, 'B_h': 123},\n",
       " {'R_l': 57, 'G_l': 21, 'B_l': 18, 'R_h': 113, 'G_h': 123, 'B_h': 138},\n",
       " {'R_l': 13, 'G_l': 15, 'B_l': 61, 'R_h': 96, 'G_h': 152, 'B_h': 164},\n",
       " {'R_l': 10, 'G_l': 19, 'B_l': 42, 'R_h': 95, 'G_h': 161, 'B_h': 129},\n",
       " {'R_l': 6, 'G_l': 25, 'B_l': 50, 'R_h': 74, 'G_h': 117, 'B_h': 149},\n",
       " {'R_l': 0, 'G_l': 10, 'B_l': 36, 'R_h': 100, 'G_h': 255, 'B_h': 255}]"
      ]
     },
     "execution_count": 130,
     "metadata": {},
     "output_type": "execute_result"
    }
   ],
   "source": [
    "store"
   ]
  },
  {
   "cell_type": "code",
   "execution_count": 132,
   "metadata": {},
   "outputs": [
    {
     "name": "stdout",
     "output_type": "stream",
     "text": [
      "{'R_l': 30, 'G_l': 25, 'B_l': 53, 'R_h': 109, 'G_h': 145, 'B_h': 151}\n"
     ]
    }
   ],
   "source": [
    "sum_R_l = 0\n",
    "sum_G_l = 0\n",
    "sum_B_l = 0\n",
    "sum_R_h = 0\n",
    "sum_G_h = 0\n",
    "sum_B_h = 0\n",
    "\n",
    "length = len(store)    \n",
    "for i in range(length):\n",
    "    sum_R_l  = sum_R_l + store[i]['R_l']\n",
    "    sum_G_l  = sum_G_l + store[i]['G_l']\n",
    "    sum_B_l  = sum_B_l + store[i]['B_l']\n",
    "    sum_R_h  = sum_R_h + store[i]['R_h']\n",
    "    sum_G_h  = sum_G_h + store[i]['G_h']\n",
    "    sum_B_h  = sum_B_h + store[i]['B_h']\n",
    "default['R_l'] = int(sum_R_l/length)\n",
    "default['G_l'] = int(sum_G_l/length)\n",
    "default['B_l'] = int(sum_B_l/length)\n",
    "default['R_h'] = int(sum_R_h/length)\n",
    "default['G_h'] = int(sum_G_h/length)\n",
    "default['B_h'] = int(sum_B_h/length)\n",
    "print(default)"
   ]
  },
  {
   "cell_type": "code",
   "execution_count": 10,
   "metadata": {},
   "outputs": [],
   "source": [
    "cv2.destroyAllWindows()"
   ]
  },
  {
   "cell_type": "code",
   "execution_count": 11,
   "metadata": {},
   "outputs": [
    {
     "data": {
      "text/plain": [
       "{'R_l': 8, 'G_l': 47, 'B_l': 98, 'R_h': 100, 'G_h': 211, 'B_h': 219}"
      ]
     },
     "execution_count": 11,
     "metadata": {},
     "output_type": "execute_result"
    }
   ],
   "source": [
    "folder_path = 'Test images/New folder'\n",
    "path = 'apple_cedar_rust_1.jpg'\n",
    "\n",
    "foo2(folder_path,path,dic = default)"
   ]
  },
  {
   "cell_type": "code",
   "execution_count": null,
   "metadata": {},
   "outputs": [],
   "source": []
  }
 ],
 "metadata": {
  "kernelspec": {
   "display_name": "Python 3",
   "language": "python",
   "name": "python3"
  },
  "language_info": {
   "codemirror_mode": {
    "name": "ipython",
    "version": 3
   },
   "file_extension": ".py",
   "mimetype": "text/x-python",
   "name": "python",
   "nbconvert_exporter": "python",
   "pygments_lexer": "ipython3",
   "version": "3.7.6"
  }
 },
 "nbformat": 4,
 "nbformat_minor": 2
}
